{
 "cells": [
  {
   "cell_type": "code",
   "execution_count": 12,
   "metadata": {},
   "outputs": [],
   "source": [
    "import pandas as pd"
   ]
  },
  {
   "cell_type": "code",
   "execution_count": 13,
   "metadata": {},
   "outputs": [],
   "source": [
    "df1 = pd.read_excel('FM registered.xlsx')\n",
    "\n",
    "df2 = pd.read_excel('Fact comers with guids.xlsx', header=None)"
   ]
  },
  {
   "cell_type": "code",
   "execution_count": 15,
   "metadata": {},
   "outputs": [
    {
     "data": {
      "text/html": [
       "<div>\n",
       "<style scoped>\n",
       "    .dataframe tbody tr th:only-of-type {\n",
       "        vertical-align: middle;\n",
       "    }\n",
       "\n",
       "    .dataframe tbody tr th {\n",
       "        vertical-align: top;\n",
       "    }\n",
       "\n",
       "    .dataframe thead th {\n",
       "        text-align: right;\n",
       "    }\n",
       "</style>\n",
       "<table border=\"1\" class=\"dataframe\">\n",
       "  <thead>\n",
       "    <tr style=\"text-align: right;\">\n",
       "      <th></th>\n",
       "      <th>0</th>\n",
       "      <th>1</th>\n",
       "      <th>2</th>\n",
       "      <th>3</th>\n",
       "      <th>4</th>\n",
       "    </tr>\n",
       "  </thead>\n",
       "  <tbody>\n",
       "    <tr>\n",
       "      <th>0</th>\n",
       "      <td>Таис</td>\n",
       "      <td>Таис</td>\n",
       "      <td>11.11.1990</td>\n",
       "      <td>tais.t@tagmedia.kz</td>\n",
       "      <td>Да</td>\n",
       "    </tr>\n",
       "    <tr>\n",
       "      <th>1</th>\n",
       "      <td>Исаналиев</td>\n",
       "      <td>Жандос</td>\n",
       "      <td>19.05.1999</td>\n",
       "      <td>maychinov.reg@gmail.com</td>\n",
       "      <td>Да</td>\n",
       "    </tr>\n",
       "    <tr>\n",
       "      <th>2</th>\n",
       "      <td>Хайбуллаев</td>\n",
       "      <td>Амаль</td>\n",
       "      <td>05.07.1994</td>\n",
       "      <td>Amal0507@mail.ru</td>\n",
       "      <td>Да</td>\n",
       "    </tr>\n",
       "    <tr>\n",
       "      <th>3</th>\n",
       "      <td>Майчинов</td>\n",
       "      <td>Ильназ</td>\n",
       "      <td>02.10.1999</td>\n",
       "      <td>maychinov.reg@gmail.com</td>\n",
       "      <td>Да</td>\n",
       "    </tr>\n",
       "    <tr>\n",
       "      <th>4</th>\n",
       "      <td>Алдяр</td>\n",
       "      <td>Адала</td>\n",
       "      <td>25.01.1995</td>\n",
       "      <td>adala.durmanova@mail.ru</td>\n",
       "      <td>Да</td>\n",
       "    </tr>\n",
       "  </tbody>\n",
       "</table>\n",
       "</div>"
      ],
      "text/plain": [
       "            0       1           2                        3   4\n",
       "0        Таис    Таис  11.11.1990       tais.t@tagmedia.kz  Да\n",
       "1   Исаналиев  Жандос  19.05.1999  maychinov.reg@gmail.com  Да\n",
       "2  Хайбуллаев   Амаль  05.07.1994         Amal0507@mail.ru  Да\n",
       "3    Майчинов  Ильназ  02.10.1999  maychinov.reg@gmail.com  Да\n",
       "4       Алдяр   Адала  25.01.1995  adala.durmanova@mail.ru  Да"
      ]
     },
     "execution_count": 15,
     "metadata": {},
     "output_type": "execute_result"
    }
   ],
   "source": [
    "df2.head()"
   ]
  },
  {
   "cell_type": "code",
   "execution_count": 19,
   "metadata": {},
   "outputs": [],
   "source": [
    "df2.rename(index=str, columns={0: \"Фамилия\", 1: \"Имя\", 2:\"Дата рождения\", 3:\"Данные\", 4:\"Пришел\"}, inplace=True)"
   ]
  },
  {
   "cell_type": "code",
   "execution_count": 22,
   "metadata": {},
   "outputs": [],
   "source": [
    "df3 = pd.merge(df1, df2, on='Данные')"
   ]
  },
  {
   "cell_type": "code",
   "execution_count": 53,
   "metadata": {},
   "outputs": [
    {
     "data": {
      "text/html": [
       "<div>\n",
       "<style scoped>\n",
       "    .dataframe tbody tr th:only-of-type {\n",
       "        vertical-align: middle;\n",
       "    }\n",
       "\n",
       "    .dataframe tbody tr th {\n",
       "        vertical-align: top;\n",
       "    }\n",
       "\n",
       "    .dataframe thead th {\n",
       "        text-align: right;\n",
       "    }\n",
       "</style>\n",
       "<table border=\"1\" class=\"dataframe\">\n",
       "  <thead>\n",
       "    <tr style=\"text-align: right;\">\n",
       "      <th></th>\n",
       "      <th>Дата</th>\n",
       "      <th>Пользователь</th>\n",
       "      <th>Имя_x</th>\n",
       "      <th>Фамилия_x</th>\n",
       "      <th>ФИ</th>\n",
       "      <th>Дата рождения_x</th>\n",
       "      <th>Сотовый</th>\n",
       "      <th>Возраст</th>\n",
       "      <th>Данные</th>\n",
       "      <th>Пол</th>\n",
       "      <th>Сигареты</th>\n",
       "      <th>Сигареты (запасные)</th>\n",
       "      <th>Фамилия_y</th>\n",
       "      <th>Имя_y</th>\n",
       "      <th>Дата рождения_y</th>\n",
       "      <th>Пришел</th>\n",
       "    </tr>\n",
       "  </thead>\n",
       "  <tbody>\n",
       "    <tr>\n",
       "      <th>0</th>\n",
       "      <td>2018-05-23</td>\n",
       "      <td>19fb94c1-0d60-e811-9480-00155d014601</td>\n",
       "      <td>Руслан</td>\n",
       "      <td>Тюлебаев</td>\n",
       "      <td>Руслан Тюлебаев</td>\n",
       "      <td>1992-10-05</td>\n",
       "      <td>7009995569</td>\n",
       "      <td>25</td>\n",
       "      <td>rus_rizhik@mail.ru</td>\n",
       "      <td>Мужской</td>\n",
       "      <td>Не указан</td>\n",
       "      <td>Не указан</td>\n",
       "      <td>Руслан</td>\n",
       "      <td>Тюлебаев</td>\n",
       "      <td>1992-10-05 00:00:00</td>\n",
       "      <td>Да</td>\n",
       "    </tr>\n",
       "    <tr>\n",
       "      <th>1</th>\n",
       "      <td>2018-05-23</td>\n",
       "      <td>283a7ce3-018d-e711-9470-00155d014601</td>\n",
       "      <td>Оля</td>\n",
       "      <td>Мосур</td>\n",
       "      <td>Оля Мосур</td>\n",
       "      <td>1998-01-09</td>\n",
       "      <td>7078378642</td>\n",
       "      <td>20</td>\n",
       "      <td>mosur.olya@mail.ru</td>\n",
       "      <td>Женский</td>\n",
       "      <td>Не указан</td>\n",
       "      <td>Не указан</td>\n",
       "      <td>Оля</td>\n",
       "      <td>Мосур</td>\n",
       "      <td>1998-01-09 00:00:00</td>\n",
       "      <td>Да</td>\n",
       "    </tr>\n",
       "    <tr>\n",
       "      <th>2</th>\n",
       "      <td>2018-05-23</td>\n",
       "      <td>4fdc7936-9e57-e811-947e-00155d014601</td>\n",
       "      <td>Светлана</td>\n",
       "      <td>Будникова</td>\n",
       "      <td>Светлана Будникова</td>\n",
       "      <td>1999-03-26</td>\n",
       "      <td>7071142681</td>\n",
       "      <td>19</td>\n",
       "      <td>Budnikova16@gmail.com</td>\n",
       "      <td>Женский</td>\n",
       "      <td>Esse, SS Exchange (Apple)</td>\n",
       "      <td>Не указан</td>\n",
       "      <td>Светлана</td>\n",
       "      <td>Будникова</td>\n",
       "      <td>1999-03-26 00:00:00</td>\n",
       "      <td>Да</td>\n",
       "    </tr>\n",
       "    <tr>\n",
       "      <th>3</th>\n",
       "      <td>2018-05-23</td>\n",
       "      <td>7921628c-9b57-e811-947e-00155d014601</td>\n",
       "      <td>Карина</td>\n",
       "      <td>Нургазина</td>\n",
       "      <td>Карина Нургазина</td>\n",
       "      <td>1998-04-24</td>\n",
       "      <td>7784555978</td>\n",
       "      <td>20</td>\n",
       "      <td>Risethesoul@gmail.com</td>\n",
       "      <td>Женский</td>\n",
       "      <td>Kiss, Super Slims Energy</td>\n",
       "      <td>Не указан</td>\n",
       "      <td>Карина</td>\n",
       "      <td>Нургазина</td>\n",
       "      <td>1998-04-24 00:00:00</td>\n",
       "      <td>Да</td>\n",
       "    </tr>\n",
       "    <tr>\n",
       "      <th>4</th>\n",
       "      <td>2018-05-23</td>\n",
       "      <td>d3691866-9b57-e811-947e-00155d014601</td>\n",
       "      <td>Айдана</td>\n",
       "      <td>Рымтаева</td>\n",
       "      <td>Айдана Рымтаева</td>\n",
       "      <td>1998-10-14</td>\n",
       "      <td>7766119898</td>\n",
       "      <td>19</td>\n",
       "      <td>Rymtayevaa@gmail.com</td>\n",
       "      <td>Женский</td>\n",
       "      <td>Davidoff, Gold</td>\n",
       "      <td>Не указан</td>\n",
       "      <td>Айдана</td>\n",
       "      <td>Рымтаева</td>\n",
       "      <td>1998-10-14 00:00:00</td>\n",
       "      <td>Да</td>\n",
       "    </tr>\n",
       "  </tbody>\n",
       "</table>\n",
       "</div>"
      ],
      "text/plain": [
       "        Дата                          Пользователь     Имя_x  Фамилия_x  \\\n",
       "0 2018-05-23  19fb94c1-0d60-e811-9480-00155d014601    Руслан   Тюлебаев   \n",
       "1 2018-05-23  283a7ce3-018d-e711-9470-00155d014601       Оля      Мосур   \n",
       "2 2018-05-23  4fdc7936-9e57-e811-947e-00155d014601  Светлана  Будникова   \n",
       "3 2018-05-23  7921628c-9b57-e811-947e-00155d014601    Карина  Нургазина   \n",
       "4 2018-05-23  d3691866-9b57-e811-947e-00155d014601    Айдана   Рымтаева   \n",
       "\n",
       "                   ФИ Дата рождения_x     Сотовый  Возраст  \\\n",
       "0     Руслан Тюлебаев      1992-10-05  7009995569       25   \n",
       "1           Оля Мосур      1998-01-09  7078378642       20   \n",
       "2  Светлана Будникова      1999-03-26  7071142681       19   \n",
       "3    Карина Нургазина      1998-04-24  7784555978       20   \n",
       "4     Айдана Рымтаева      1998-10-14  7766119898       19   \n",
       "\n",
       "                  Данные      Пол                   Сигареты  \\\n",
       "0     rus_rizhik@mail.ru  Мужской                  Не указан   \n",
       "1     mosur.olya@mail.ru  Женский                  Не указан   \n",
       "2  Budnikova16@gmail.com  Женский  Esse, SS Exchange (Apple)   \n",
       "3  Risethesoul@gmail.com  Женский   Kiss, Super Slims Energy   \n",
       "4   Rymtayevaa@gmail.com  Женский             Davidoff, Gold   \n",
       "\n",
       "  Сигареты (запасные) Фамилия_y      Имя_y      Дата рождения_y Пришел  \n",
       "0           Не указан    Руслан   Тюлебаев  1992-10-05 00:00:00     Да  \n",
       "1           Не указан       Оля      Мосур  1998-01-09 00:00:00     Да  \n",
       "2           Не указан  Светлана  Будникова  1999-03-26 00:00:00     Да  \n",
       "3           Не указан    Карина  Нургазина  1998-04-24 00:00:00     Да  \n",
       "4           Не указан    Айдана   Рымтаева  1998-10-14 00:00:00     Да  "
      ]
     },
     "execution_count": 53,
     "metadata": {},
     "output_type": "execute_result"
    }
   ],
   "source": [
    "df3.head()"
   ]
  },
  {
   "cell_type": "code",
   "execution_count": 27,
   "metadata": {},
   "outputs": [],
   "source": [
    "df3.to_excel('merged_comers.xlsx')"
   ]
  },
  {
   "cell_type": "code",
   "execution_count": 44,
   "metadata": {},
   "outputs": [],
   "source": [
    "df4 = pd.merge(df1, df2, on='Данные', how='outer')"
   ]
  },
  {
   "cell_type": "code",
   "execution_count": 47,
   "metadata": {},
   "outputs": [],
   "source": [
    "df4 = df4[df4['Пришел'] != 'Да']"
   ]
  },
  {
   "cell_type": "code",
   "execution_count": 50,
   "metadata": {},
   "outputs": [
    {
     "name": "stderr",
     "output_type": "stream",
     "text": [
      "c:\\users\\777\\appdata\\local\\programs\\python\\python36\\lib\\site-packages\\ipykernel_launcher.py:1: SettingWithCopyWarning: \n",
      "A value is trying to be set on a copy of a slice from a DataFrame\n",
      "\n",
      "See the caveats in the documentation: http://pandas.pydata.org/pandas-docs/stable/indexing.html#indexing-view-versus-copy\n",
      "  \"\"\"Entry point for launching an IPython kernel.\n"
     ]
    }
   ],
   "source": [
    "df4.drop(['Фамилия_y', 'Имя_y', 'Дата рождения_y', 'Пришел'],axis=1, inplace=True)"
   ]
  },
  {
   "cell_type": "code",
   "execution_count": null,
   "metadata": {},
   "outputs": [],
   "source": [
    "df4."
   ]
  },
  {
   "cell_type": "code",
   "execution_count": 52,
   "metadata": {},
   "outputs": [],
   "source": [
    "df4.to_excel('merged_not_comers.xlsx')"
   ]
  },
  {
   "cell_type": "code",
   "execution_count": null,
   "metadata": {},
   "outputs": [],
   "source": []
  }
 ],
 "metadata": {
  "kernelspec": {
   "display_name": "Python 3",
   "language": "python",
   "name": "python3"
  },
  "language_info": {
   "codemirror_mode": {
    "name": "ipython",
    "version": 3
   },
   "file_extension": ".py",
   "mimetype": "text/x-python",
   "name": "python",
   "nbconvert_exporter": "python",
   "pygments_lexer": "ipython3",
   "version": "3.6.5"
  }
 },
 "nbformat": 4,
 "nbformat_minor": 2
}
